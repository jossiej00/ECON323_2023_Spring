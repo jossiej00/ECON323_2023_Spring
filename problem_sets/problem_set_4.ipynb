{
 "cells": [
  {
   "cell_type": "markdown",
   "id": "432b23d1",
   "metadata": {},
   "source": [
    "# Problem Set 4\n"
   ]
  },
  {
   "cell_type": "markdown",
   "id": "67db17c6",
   "metadata": {},
   "source": [
    "## Question 1\n",
    "\n",
    "As in [Applied Linear Algebra](https://datascience.quantecon.org/../scientific/applied_linalg.html):\n",
    "\n",
    "Consider an economy where in any given year, $ \\alpha = 4\\% $ of current employed workers lose their jobs and\n",
    "$ \\phi = 15\\% $ of unemployed workers find jobs.\n",
    "\n",
    "Define the vector $ x_0 = \\begin{bmatrix} 650,000 & 150,000 \\end{bmatrix} $ as the number of\n",
    "employed and unemployed workers (respectively) at time $ 0 $ in the economy.\n",
    "\n",
    "Adapting the code from the lecture notes, plot the unemployment rate over time in this economy for $ t = 0, \\ldots 20 $ (i.e. number of employed over the total number of workers)."
   ]
  },
  {
   "cell_type": "code",
   "execution_count": 7,
   "id": "455411f1",
   "metadata": {
    "hide-output": false
   },
   "outputs": [
    {
     "data": {
      "text/plain": [
       "<AxesSubplot:xlabel='t'>"
      ]
     },
     "execution_count": 7,
     "metadata": {},
     "output_type": "execute_result"
    },
    {
     "data": {
      "image/png": "[encoded data removed]",
      "text/plain": [
       "<Figure size 640x480 with 1 Axes>"
      ]
     },
     "metadata": {},
     "output_type": "display_data"
    }
   ],
   "source": [
    "import numpy as np\n",
    "import matplotlib.pyplot as plt\n",
    "alpha = 0.04\n",
    "phi = 0.15\n",
    "A = np.array([[1-alpha, alpha], [phi, 1-phi]])\n",
    "x0 = np.array([650000, 150000])\n",
    "\n",
    "def simulate(x0, A, T = 20):\n",
    "    nX = x0.shape[0]\n",
    "    out = np.zeros((T, nX))\n",
    "    out[0, :] = x0\n",
    "    \n",
    "    for t in range(1, T):\n",
    "        out[t, :] = A.T @ out[t-1, :]\n",
    "    return out\n",
    "\n",
    "def plot_simulation (x0, A, T = 20):\n",
    "    X = simulate(x0, A, T)\n",
    "    fig, ax = plt.subplots()\n",
    "    ax.plot(X[:, 0])\n",
    "    ax.plot(X[:, 1])\n",
    "    ax.set_xlabel(\"t\")\n",
    "    ax.legend([\"Employed\", \"Unemployed\"])\n",
    "    return ax\n",
    "\n",
    "plot_simulation(x0, A, 20)"
   ]
  },
  {
   "cell_type": "markdown",
   "id": "c7a7569b",
   "metadata": {},
   "source": [
    "Continue the simulation for 1000 periods to find a long-run unemployment rate (when it converges)."
   ]
  },
  {
   "cell_type": "code",
   "execution_count": 13,
   "id": "c908f794",
   "metadata": {
    "hide-output": false
   },
   "outputs": [
    {
     "data": {
      "text/plain": [
       "array([[631578.94736842, 168421.05263158],\n",
       "       [631578.94736842, 168421.05263158],\n",
       "       [631578.94736842, 168421.05263158]])"
      ]
     },
     "execution_count": 13,
     "metadata": {},
     "output_type": "execute_result"
    }
   ],
   "source": [
    "out = simulate(x0, A, T = 1000)\n",
    "out[997:1000, :]"
   ]
  },
  {
   "cell_type": "code",
   "execution_count": 16,
   "id": "ad96dd21",
   "metadata": {},
   "outputs": [
    {
     "data": {
      "text/plain": [
       "0.2105"
      ]
     },
     "execution_count": 16,
     "metadata": {},
     "output_type": "execute_result"
    }
   ],
   "source": [
    "stationary_unemployed_rate = out[999, 1]/(out[999, 0] + out[999, 1])\n",
    "round(stationary_unemployed_rate, 4)"
   ]
  },
  {
   "cell_type": "markdown",
   "id": "2a9dc107",
   "metadata": {},
   "source": [
    "As we can see from the row 997 to row 1000 of variable `out`, each pair of the number of employed, the number of unemployed are stablized. Thus, the long-run unemployement rate is 0.2105"
   ]
  },
  {
   "cell_type": "markdown",
   "id": "acaa8c18",
   "metadata": {},
   "source": [
    "## Question 2\n",
    "\n",
    "Wikipedia and other credible statistics sources tell us that the mean and\n",
    "variance of the Uniform(0, 1) distribution are (1/2, 1/12) respectively.\n",
    "\n",
    "How could we check whether the Numpy random numbers approximate these\n",
    "values? (*hint*: some functions in [Introduction to Numpy](https://datascience.quantecon.org/../scientific/numpy_arrays.html) and [Randomness](https://datascience.quantecon.org/../scientific/randomness.html) might be useful)\n",
    "\n",
    "Please only use the functions in the Numpy package (i.e., don't use `scipy.stats`) to answer this question."
   ]
  },
  {
   "cell_type": "code",
   "execution_count": 21,
   "id": "83a52142",
   "metadata": {
    "hide-output": false
   },
   "outputs": [
    {
     "name": "stdout",
     "output_type": "stream",
     "text": [
      "0.499991408265948 0.08333789245877478\n"
     ]
    }
   ],
   "source": [
    "uni_simulated = np.random.rand(100000000)\n",
    "mean_simulated = np.mean(uni_simulated)\n",
    "var_simulated = np.var(uni_simulated)\n",
    "print(mean_simulated, var_simulated)"
   ]
  },
  {
   "cell_type": "markdown",
   "id": "b59f1533",
   "metadata": {},
   "source": [
    "We can check the mean and variance of the Uniform(0, 1) by simulating a sample the total number of 100000000 random values by np.random.rand() as np.random.rand() generates random numbewr that has equal probability of being any value between 0 and 1. By computing the mean and variance of simulated sample to get the approximate mean and variance of Uniform(0,1). As shown above, the approximate mean and variance are 0.499991 and 0.083338 respectively which are both close to their theoratical values."
   ]
  },
  {
   "cell_type": "markdown",
   "id": "cec29243",
   "metadata": {},
   "source": [
    "## Question 3\n",
    "\n",
    "Assume you have been given the opportunity to choose between one of three financial assets.\n",
    "\n",
    "You will be given the asset for free, allowed to hold it indefinitely, and will keep all payoffs.\n",
    "\n",
    "Also assume the assets’ payoffs are distributed as follows (the notations are the same as in “Continuous Distributions” subsection of [Randomness](https://datascience.quantecon.org/../scientific/randomness.html)):\n",
    "\n",
    "1. Normal with $ \\mu = 10, \\sigma = 5 $  \n",
    "1. Gamma with $ k = 5.3, \\theta = 2 $  \n",
    "1. Gamma with $ k = 5, \\theta = 2 $  \n",
    "\n",
    "\n",
    "Use `scipy.stats` to answer the following questions:\n",
    "\n",
    "- Which asset has the highest average returns?  \n",
    "- Which asset has the highest median returns?  \n",
    "- Which asset has the lowest coefficient of variation, i.e., standard deviation divided by mean?  \n",
    "- Which asset would you choose? Why? (There is not a single right answer here. Just be creative and express your preferences.)  \n",
    "\n",
    "\n",
    "You can find the official documentation of `scipy.stats` [here](https://docs.scipy.org/doc/scipy/reference/stats.html)"
   ]
  },
  {
   "cell_type": "code",
   "execution_count": 22,
   "id": "e7193f57",
   "metadata": {
    "hide-output": false
   },
   "outputs": [
    {
     "data": {
      "text/plain": [
       "<bound method rv_frozen.mean of <scipy.stats._distn_infrastructure.rv_frozen object at 0x7fb8a09fe340>>"
      ]
     },
     "execution_count": 22,
     "metadata": {},
     "output_type": "execute_result"
    }
   ],
   "source": [
    "import scipy.stats as st"
   ]
  },
  {
   "cell_type": "code",
   "execution_count": 29,
   "id": "aa061264",
   "metadata": {},
   "outputs": [
    {
     "name": "stdout",
     "output_type": "stream",
     "text": [
      "asset1 has the highest average returns;\n",
      "asset1 has the highest median returns;\n",
      "asset2 has the lowest coefficient of variation\n"
     ]
    }
   ],
   "source": [
    "# the highest average returns\n",
    "asset1 = st.norm(10, 5)\n",
    "asset2 = st.gamma(5.3, 2)\n",
    "asset3 = st.gamma(5, 2)\n",
    "avg_returns = {\n",
    "    asset1.mean(): \"asset1\",\n",
    "    asset2.mean(): \"asset2\",\n",
    "    asset3.mean(): \"asset3\"\n",
    "}\n",
    "\n",
    "median_returns = {\n",
    "    asset1.median(): \"asset1\",\n",
    "    asset2.median(): \"asset2\",\n",
    "    asset3.median(): \"asset3\"\n",
    "}\n",
    "\n",
    "coef_var = {\n",
    "    asset1.std()/asset1.mean(): \"asset1\",\n",
    "    asset2.std()/asset2.mean(): \"asset2\",\n",
    "    asset3.std()/asset3.mean(): \"asset3\"\n",
    "}\n",
    "highest_avg_asset = avg_returns.get(max(avg_returns))\n",
    "highest_median_asset = median_returns.get(max(median_returns))\n",
    "lowest_coefvar_asset = coef_var.get(min(coef_var))\n",
    "print(f\"{highest_avg_asset} has the highest average returns;\\n\\\n",
    "{highest_median_asset} has the highest median returns;\\n\\\n",
    "{lowest_coefvar_asset} has the lowest coefficient of variation\")"
   ]
  },
  {
   "cell_type": "markdown",
   "id": "45ce6a4f",
   "metadata": {},
   "source": [
    "I will choose asset 1 because from the above results, asset 1 has the higest average returns and the highest median returns which means in general, I may get higher returns if invest on asset 1 than other assets."
   ]
  },
  {
   "cell_type": "markdown",
   "id": "db4f3ac9",
   "metadata": {},
   "source": [
    "## Question 4\n",
    "\n",
    "Take the example with preferences over bananas (B) and apples (A) in [Optimization](https://datascience.quantecon.org/../scientific/optimization.html)\n",
    "\n",
    "The consumer solves the following problem:\n",
    "\n",
    "$$\n",
    "\\begin{aligned}\n",
    "\\max_{A, B} & B^{\\alpha}A^{1-\\alpha}\\\\\n",
    "\\text{s.t. } & p_A A + B \\leq W\n",
    "\\end{aligned}\n",
    "$$\n",
    "\n",
    "Fix $ p_A = 2 $ and $ \\alpha = 0.3 $.  Make a grid of `W` between `1` and `3` and then plot the optimal ratio of B to A."
   ]
  },
  {
   "cell_type": "code",
   "execution_count": 90,
   "id": "e604e78b",
   "metadata": {
    "hide-output": false
   },
   "outputs": [
    {
     "name": "stderr",
     "output_type": "stream",
     "text": [
      "/var/folders/xc/7r16p91x77l83dycjk3x60r00000gn/T/ipykernel_60066/3295629828.py:10: RuntimeWarning: invalid value encountered in double_scalars\n",
      "  return B**alpha * A**(1-alpha)\n"
     ]
    },
    {
     "data": {
      "text/plain": [
       "Text(0.5, 1.0, 'P_A = 2, alpha = 0.3')"
      ]
     },
     "execution_count": 90,
     "metadata": {},
     "output_type": "execute_result"
    },
    {
     "data": {
      "image/png": "[encoded data removed]",
      "text/plain": [
       "<Figure size 640x480 with 1 Axes>"
      ]
     },
     "metadata": {},
     "output_type": "display_data"
    }
   ],
   "source": [
    "p_A = 3\n",
    "alpha = 0.3\n",
    "\n",
    "import scipy.optimize as opt\n",
    "W = np.arange(1, 3.1, 0.1)\n",
    "len = W.shape[0]\n",
    "optimal_ratioBA_1 = np.zeros(len)\n",
    "for i in range(len):\n",
    "    def U(A, B, alpha = alpha):\n",
    "        return B**alpha * A**(1-alpha)\n",
    "\n",
    "    def A_bc(B, W = W[i], pa = 2):\n",
    "        return (W-B)/pa\n",
    "\n",
    "    def objective(B, W = W[i], pa = 2):\n",
    "        A = A_bc(B, W, pa)\n",
    "        return -U(A, B)\n",
    "\n",
    "    result = opt.minimize_scalar(objective)\n",
    "    optimal_B = result.x\n",
    "    optimal_A = A_bc(optimal_B, W[i], 2)\n",
    "    optimal_ratioBA_1[i] = optimal_B/optimal_A\n",
    "\n",
    "fig, ax = plt.subplots()\n",
    "plt.plot(W,optimal_ratioBA_1)\n",
    "ax.set_xlabel(\"W\")\n",
    "ax.set_ylabel(\"ratio of B to A\")\n",
    "ax.set_title(\"P_A = 2, alpha = 0.3\")"
   ]
  },
  {
   "cell_type": "markdown",
   "id": "2bacab8b",
   "metadata": {},
   "source": [
    "Do the same graph for $ \\alpha = 0.5 $ **and compare/interpret.**"
   ]
  },
  {
   "cell_type": "code",
   "execution_count": 89,
   "id": "42fb0116",
   "metadata": {
    "hide-output": false
   },
   "outputs": [
    {
     "name": "stderr",
     "output_type": "stream",
     "text": [
      "/var/folders/xc/7r16p91x77l83dycjk3x60r00000gn/T/ipykernel_60066/1830813167.py:10: RuntimeWarning: invalid value encountered in double_scalars\n",
      "  return B**alpha * A**(1-alpha)\n"
     ]
    },
    {
     "data": {
      "text/plain": [
       "Text(0.5, 1.0, 'P_A = 2, alpha = 0.5')"
      ]
     },
     "execution_count": 89,
     "metadata": {},
     "output_type": "execute_result"
    },
    {
     "data": {
      "image/png": "[encoded data removed]",
      "text/plain": [
       "<Figure size 640x480 with 1 Axes>"
      ]
     },
     "metadata": {},
     "output_type": "display_data"
    }
   ],
   "source": [
    "p_A = 3\n",
    "alpha = 0.5\n",
    "\n",
    "import scipy.optimize as opt\n",
    "W = np.arange(1, 3.1, 0.1)\n",
    "len = W.shape[0]\n",
    "optimal_ratioBA_2 = np.zeros(len)\n",
    "for i in range(len):\n",
    "    def U(A, B, alpha = alpha):\n",
    "        return B**alpha * A**(1-alpha)\n",
    "\n",
    "    def A_bc(B, W = W[i], pa = 2):\n",
    "        return (W-B)/pa\n",
    "\n",
    "    def objective(B, W = W[i], pa = 2):\n",
    "        A = A_bc(B, W, pa)\n",
    "        return -U(A, B)\n",
    "\n",
    "    result = opt.minimize_scalar(objective)\n",
    "    optimal_B = result.x\n",
    "    optimal_A = A_bc(optimal_B, W[i], 2)\n",
    "    optimal_ratioBA_2[i] = optimal_B/optimal_A\n",
    "\n",
    "fig, ax = plt.subplots()\n",
    "plt.plot(W,optimal_ratioBA_2)\n",
    "ax.set_xlabel(\"W\")\n",
    "ax.set_ylabel(\"ratio of B to A\")\n",
    "ax.set_title(\"P_A = 2, alpha = 0.5\")"
   ]
  },
  {
   "cell_type": "markdown",
   "id": "8501a137",
   "metadata": {},
   "source": [
    "Whehter $\\alpha = 0.3$ or 0.5, the intercept for these two plots are the same, and both lines drop down to the same value (-5.1433) at W = 1.6 given the same W grid. Though after they bounch back from the lowest point, the ration of B to A with $\\alpha = 0.3$ stablizes around 1 while that with $\\alpha = 0.5$ stablizes around 2."
   ]
  },
  {
   "attachments": {},
   "cell_type": "markdown",
   "id": "7558ed51",
   "metadata": {},
   "source": [
    "## Question 5\n",
    "\n",
    "Suppose that you own a mobile app that has a \"freemium\" pricing policy, and you want to model how the behavior of your users depends on the monthly subscription price that you charge.\n",
    "\n",
    "The population of your potential app users are distributed between three states; Non-users, Free users, and Premium users. **All users begin as Non-users**; a Non-user will never go directly from being a Non-user to being a Premium user, without first trying the app out as a Free user for at least one month. In each month, 5\\% of the Non-users will decide to try the app in the next month.\n",
    "\n",
    "In every time period, 0.5\\% of the Free users tend to leave the app and become Non-users again. After those users switch, some of the remaining users will choose to subscribe to the app in a given month (and transfer from the Free user category to the Premium user category). The probability that a Free user who did not already leave the app chooses to subscribe for the next month depends on the monthly price that you charge. If the monthly price is represented by a positive number $p$, then the probability of subscribing is given by $$\\mathbb{P}\\left[ \\text{Free user chooses to subscribe to Premium}\\right] = \\frac{1-\\mathbb{P[\\text{Free user chooses to leave the app}]}}{1+p}.$$\n",
    "\n",
    "Finally, every month 5\\% of Premium users will cancel their subscriptions, and 1\\%  of Premium users will delete the app and become Non-users again.\n",
    "\n",
    "\n",
    "\n",
    "Define a function `transition_matrix` over prices $p$, whose output is a row-stochastic version of the matrix that describes the transition probabilities in this economy.\n",
    "\n",
    "Write another function called `iterate` that takes as arguments $p$ and $t$, where $t$ is the number of months and takes a default value of 6 months, and outputs the distribution of users into categories after $t$ months."
   ]
  },
  {
   "cell_type": "code",
   "execution_count": null,
   "id": "fced19e8",
   "metadata": {},
   "outputs": [],
   "source": [
    "transition_matrix = np.array([])"
   ]
  },
  {
   "attachments": {},
   "cell_type": "markdown",
   "id": "68523e4c",
   "metadata": {},
   "source": [
    "Create a figure with three subplots arranged horizontally. On each subplot, show the evolution of your distribution of users over the first year of your new app. Each figure should have time $t$ as the x-axis, and the y-axis should track the proportions of users in each category, for a specific price. On these axes, show how the number of users in each category changes over time with a monthly price equal to $p=0.10$, $p=2$, and $p=20$, respectively. Make sure to clearly label your lines, axes, and subplots."
   ]
  },
  {
   "cell_type": "code",
   "execution_count": null,
   "id": "aa4a95f4",
   "metadata": {},
   "outputs": [],
   "source": [
    "# your code here"
   ]
  },
  {
   "attachments": {},
   "cell_type": "markdown",
   "id": "09c20582",
   "metadata": {},
   "source": [
    "Which of the above prices yields the most premium users after one year? Is this surprising? Why or why not?"
   ]
  },
  {
   "cell_type": "markdown",
   "id": "16e59e73",
   "metadata": {},
   "source": []
  }
 ],
 "metadata": {
  "date": 1627429658.2189074,
  "filename": "problem_set_4.md",
  "kernelspec": {
   "display_name": "Python 3.9.12 ('base')",
   "language": "python",
   "name": "python3"
  },
  "language_info": {
   "codemirror_mode": {
    "name": "ipython",
    "version": 3
   },
   "file_extension": ".py",
   "mimetype": "text/x-python",
   "name": "python",
   "nbconvert_exporter": "python",
   "pygments_lexer": "ipython3",
   "version": "3.9.12"
  },
  "title": "Problem Set 4",
  "vscode": {
   "interpreter": {
    "hash": "9777118ad769d8dd7c6e03a7faf4020240039b86663957de69809a452c3a3fc8"
   }
  }
 },
 "nbformat": 4,
 "nbformat_minor": 5
}
